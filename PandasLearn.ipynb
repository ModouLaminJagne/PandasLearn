{
 "cells": [
  {
   "cell_type": "markdown",
   "id": "7f443519",
   "metadata": {},
   "source": [
    "# Import pandas"
   ]
  },
  {
   "cell_type": "code",
   "execution_count": 1,
   "id": "88562e14",
   "metadata": {},
   "outputs": [],
   "source": [
    "import pandas as pd"
   ]
  },
  {
   "cell_type": "markdown",
   "id": "e6776e84",
   "metadata": {},
   "source": [
    "# Set the dataframe"
   ]
  },
  {
   "cell_type": "code",
   "execution_count": 6,
   "id": "6443ba9d",
   "metadata": {},
   "outputs": [],
   "source": [
    "df = pd.DataFrame({\n",
    "    'name': [\n",
    "        'mlj','salieu','ndey','konateh','yasin','mariama','modou','Jatta','malick','aji', 'bailo'\n",
    "    ],\n",
    "    'age':[25, 24, 23, 26, 15, 30, 17, '', 20, 23, 15],\n",
    "    'gender':['male', 'male', 'female', 'male', 'female', 'female', 'male', '', 'male', 'female', ''],\n",
    "    'country':['Gambia', 'Guinea', 'Senegal', 'Mali', 'Bissau', 'Leon', 'Gambia', 'Mali', 'Konacry', 'Dakar', 'Guinea']\n",
    "})"
   ]
  },
  {
   "cell_type": "code",
   "execution_count": 7,
   "id": "629133d5",
   "metadata": {},
   "outputs": [
    {
     "data": {
      "text/html": [
       "<div>\n",
       "<style scoped>\n",
       "    .dataframe tbody tr th:only-of-type {\n",
       "        vertical-align: middle;\n",
       "    }\n",
       "\n",
       "    .dataframe tbody tr th {\n",
       "        vertical-align: top;\n",
       "    }\n",
       "\n",
       "    .dataframe thead th {\n",
       "        text-align: right;\n",
       "    }\n",
       "</style>\n",
       "<table border=\"1\" class=\"dataframe\">\n",
       "  <thead>\n",
       "    <tr style=\"text-align: right;\">\n",
       "      <th></th>\n",
       "      <th>name</th>\n",
       "      <th>age</th>\n",
       "      <th>gender</th>\n",
       "      <th>country</th>\n",
       "    </tr>\n",
       "  </thead>\n",
       "  <tbody>\n",
       "    <tr>\n",
       "      <th>0</th>\n",
       "      <td>mlj</td>\n",
       "      <td>25</td>\n",
       "      <td>male</td>\n",
       "      <td>Gambia</td>\n",
       "    </tr>\n",
       "    <tr>\n",
       "      <th>1</th>\n",
       "      <td>salieu</td>\n",
       "      <td>24</td>\n",
       "      <td>male</td>\n",
       "      <td>Guinea</td>\n",
       "    </tr>\n",
       "    <tr>\n",
       "      <th>2</th>\n",
       "      <td>ndey</td>\n",
       "      <td>23</td>\n",
       "      <td>female</td>\n",
       "      <td>Senegal</td>\n",
       "    </tr>\n",
       "    <tr>\n",
       "      <th>3</th>\n",
       "      <td>konateh</td>\n",
       "      <td>26</td>\n",
       "      <td>male</td>\n",
       "      <td>Mali</td>\n",
       "    </tr>\n",
       "    <tr>\n",
       "      <th>4</th>\n",
       "      <td>yasin</td>\n",
       "      <td>15</td>\n",
       "      <td>female</td>\n",
       "      <td>Bissau</td>\n",
       "    </tr>\n",
       "    <tr>\n",
       "      <th>5</th>\n",
       "      <td>mariama</td>\n",
       "      <td>30</td>\n",
       "      <td>female</td>\n",
       "      <td>Leon</td>\n",
       "    </tr>\n",
       "    <tr>\n",
       "      <th>6</th>\n",
       "      <td>modou</td>\n",
       "      <td>17</td>\n",
       "      <td>male</td>\n",
       "      <td>Gambia</td>\n",
       "    </tr>\n",
       "    <tr>\n",
       "      <th>7</th>\n",
       "      <td>Jatta</td>\n",
       "      <td></td>\n",
       "      <td></td>\n",
       "      <td>Mali</td>\n",
       "    </tr>\n",
       "    <tr>\n",
       "      <th>8</th>\n",
       "      <td>malick</td>\n",
       "      <td>20</td>\n",
       "      <td>male</td>\n",
       "      <td>Konacry</td>\n",
       "    </tr>\n",
       "    <tr>\n",
       "      <th>9</th>\n",
       "      <td>aji</td>\n",
       "      <td>23</td>\n",
       "      <td>female</td>\n",
       "      <td>Dakar</td>\n",
       "    </tr>\n",
       "    <tr>\n",
       "      <th>10</th>\n",
       "      <td>bailo</td>\n",
       "      <td>15</td>\n",
       "      <td></td>\n",
       "      <td>Guinea</td>\n",
       "    </tr>\n",
       "  </tbody>\n",
       "</table>\n",
       "</div>"
      ],
      "text/plain": [
       "       name age  gender  country\n",
       "0       mlj  25    male   Gambia\n",
       "1    salieu  24    male   Guinea\n",
       "2      ndey  23  female  Senegal\n",
       "3   konateh  26    male     Mali\n",
       "4     yasin  15  female   Bissau\n",
       "5   mariama  30  female     Leon\n",
       "6     modou  17    male   Gambia\n",
       "7     Jatta                 Mali\n",
       "8    malick  20    male  Konacry\n",
       "9       aji  23  female    Dakar\n",
       "10    bailo  15           Guinea"
      ]
     },
     "execution_count": 7,
     "metadata": {},
     "output_type": "execute_result"
    }
   ],
   "source": [
    "df"
   ]
  },
  {
   "cell_type": "code",
   "execution_count": null,
   "id": "5be04086",
   "metadata": {},
   "outputs": [],
   "source": []
  }
 ],
 "metadata": {
  "kernelspec": {
   "display_name": "Python 3 (ipykernel)",
   "language": "python",
   "name": "python3"
  },
  "language_info": {
   "codemirror_mode": {
    "name": "ipython",
    "version": 3
   },
   "file_extension": ".py",
   "mimetype": "text/x-python",
   "name": "python",
   "nbconvert_exporter": "python",
   "pygments_lexer": "ipython3",
   "version": "3.9.7"
  }
 },
 "nbformat": 4,
 "nbformat_minor": 5
}
